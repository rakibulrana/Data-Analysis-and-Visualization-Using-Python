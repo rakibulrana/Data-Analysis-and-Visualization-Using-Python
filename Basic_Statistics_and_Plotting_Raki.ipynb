{
 "cells": [
  {
   "cell_type": "code",
   "execution_count": 33,
   "metadata": {},
   "outputs": [
    {
     "data": {
      "text/html": [
       "<div>\n",
       "<style scoped>\n",
       "    .dataframe tbody tr th:only-of-type {\n",
       "        vertical-align: middle;\n",
       "    }\n",
       "\n",
       "    .dataframe tbody tr th {\n",
       "        vertical-align: top;\n",
       "    }\n",
       "\n",
       "    .dataframe thead th {\n",
       "        text-align: right;\n",
       "    }\n",
       "</style>\n",
       "<table border=\"1\" class=\"dataframe\">\n",
       "  <thead>\n",
       "    <tr style=\"text-align: right;\">\n",
       "      <th></th>\n",
       "      <th>week</th>\n",
       "      <th>analytics</th>\n",
       "      <th>artificial intelligence</th>\n",
       "      <th>big data</th>\n",
       "      <th>data mining</th>\n",
       "      <th>data science</th>\n",
       "      <th>machine learning</th>\n",
       "      <th>python</th>\n",
       "      <th>Country</th>\n",
       "      <th>Population</th>\n",
       "      <th>Area (sq. mi.)</th>\n",
       "      <th>Coastline (coast/area ratio)</th>\n",
       "      <th>Infant mortality (per 1000 births)</th>\n",
       "      <th>GDP ($ per capita)</th>\n",
       "      <th>Literacy (%)</th>\n",
       "      <th>Phones (per 1000)</th>\n",
       "      <th>Crops (%)</th>\n",
       "      <th>Other (%)</th>\n",
       "      <th>Birthrate</th>\n",
       "      <th>Deathrate</th>\n",
       "    </tr>\n",
       "  </thead>\n",
       "  <tbody>\n",
       "    <tr>\n",
       "      <th>0</th>\n",
       "      <td>21/12/2014</td>\n",
       "      <td>63</td>\n",
       "      <td>23</td>\n",
       "      <td>53</td>\n",
       "      <td>68</td>\n",
       "      <td>11</td>\n",
       "      <td>14</td>\n",
       "      <td>29</td>\n",
       "      <td>Afghanistan</td>\n",
       "      <td>31056997.0</td>\n",
       "      <td>647500</td>\n",
       "      <td>0,00</td>\n",
       "      <td>163,07</td>\n",
       "      <td>700</td>\n",
       "      <td>36,0</td>\n",
       "      <td>3,2</td>\n",
       "      <td>0,22</td>\n",
       "      <td>87,65</td>\n",
       "      <td>46,6</td>\n",
       "      <td>20,34</td>\n",
       "    </tr>\n",
       "    <tr>\n",
       "      <th>1</th>\n",
       "      <td>28/12/2014</td>\n",
       "      <td>59</td>\n",
       "      <td>22</td>\n",
       "      <td>54</td>\n",
       "      <td>60</td>\n",
       "      <td>13</td>\n",
       "      <td>13</td>\n",
       "      <td>28</td>\n",
       "      <td>Albania</td>\n",
       "      <td>3581655.0</td>\n",
       "      <td>28748</td>\n",
       "      <td>1,26</td>\n",
       "      <td>21,52</td>\n",
       "      <td>4500</td>\n",
       "      <td>86,5</td>\n",
       "      <td>71,2</td>\n",
       "      <td>4,42</td>\n",
       "      <td>74,49</td>\n",
       "      <td>15,11</td>\n",
       "      <td>5,22</td>\n",
       "    </tr>\n",
       "    <tr>\n",
       "      <th>2</th>\n",
       "      <td>04/01/2015</td>\n",
       "      <td>90</td>\n",
       "      <td>28</td>\n",
       "      <td>76</td>\n",
       "      <td>88</td>\n",
       "      <td>18</td>\n",
       "      <td>18</td>\n",
       "      <td>35</td>\n",
       "      <td>Algeria</td>\n",
       "      <td>NaN</td>\n",
       "      <td>2381740</td>\n",
       "      <td>0,04</td>\n",
       "      <td>31</td>\n",
       "      <td>6000</td>\n",
       "      <td>70,0</td>\n",
       "      <td>78,1</td>\n",
       "      <td>0,25</td>\n",
       "      <td>96,53</td>\n",
       "      <td>17,14</td>\n",
       "      <td>4,61</td>\n",
       "    </tr>\n",
       "    <tr>\n",
       "      <th>3</th>\n",
       "      <td>11/01/2015</td>\n",
       "      <td>94</td>\n",
       "      <td>33</td>\n",
       "      <td>76</td>\n",
       "      <td>88</td>\n",
       "      <td>20</td>\n",
       "      <td>21</td>\n",
       "      <td>37</td>\n",
       "      <td>American Samoa</td>\n",
       "      <td>57794.0</td>\n",
       "      <td>199</td>\n",
       "      <td>58,29</td>\n",
       "      <td>9,27</td>\n",
       "      <td>8000</td>\n",
       "      <td>97,0</td>\n",
       "      <td>259,5</td>\n",
       "      <td>15</td>\n",
       "      <td>75</td>\n",
       "      <td>22,46</td>\n",
       "      <td>3,27</td>\n",
       "    </tr>\n",
       "    <tr>\n",
       "      <th>4</th>\n",
       "      <td>18/01/2015</td>\n",
       "      <td>93</td>\n",
       "      <td>33</td>\n",
       "      <td>78</td>\n",
       "      <td>91</td>\n",
       "      <td>19</td>\n",
       "      <td>19</td>\n",
       "      <td>38</td>\n",
       "      <td>Andorra</td>\n",
       "      <td>71201.0</td>\n",
       "      <td>468</td>\n",
       "      <td>0,00</td>\n",
       "      <td>4,05</td>\n",
       "      <td>19000</td>\n",
       "      <td>100,0</td>\n",
       "      <td>497,2</td>\n",
       "      <td>0</td>\n",
       "      <td>97,78</td>\n",
       "      <td>8,71</td>\n",
       "      <td>6,25</td>\n",
       "    </tr>\n",
       "    <tr>\n",
       "      <th>...</th>\n",
       "      <td>...</td>\n",
       "      <td>...</td>\n",
       "      <td>...</td>\n",
       "      <td>...</td>\n",
       "      <td>...</td>\n",
       "      <td>...</td>\n",
       "      <td>...</td>\n",
       "      <td>...</td>\n",
       "      <td>...</td>\n",
       "      <td>...</td>\n",
       "      <td>...</td>\n",
       "      <td>...</td>\n",
       "      <td>...</td>\n",
       "      <td>...</td>\n",
       "      <td>...</td>\n",
       "      <td>...</td>\n",
       "      <td>...</td>\n",
       "      <td>...</td>\n",
       "      <td>...</td>\n",
       "      <td>...</td>\n",
       "    </tr>\n",
       "    <tr>\n",
       "      <th>195</th>\n",
       "      <td>16/09/2018</td>\n",
       "      <td>65</td>\n",
       "      <td>77</td>\n",
       "      <td>91</td>\n",
       "      <td>69</td>\n",
       "      <td>71</td>\n",
       "      <td>84</td>\n",
       "      <td>82</td>\n",
       "      <td>Sweden</td>\n",
       "      <td>9016596.0</td>\n",
       "      <td>449964</td>\n",
       "      <td>0,72</td>\n",
       "      <td>2,77</td>\n",
       "      <td>26800</td>\n",
       "      <td>99,0</td>\n",
       "      <td>715,0</td>\n",
       "      <td>0,01</td>\n",
       "      <td>93,45</td>\n",
       "      <td>10,27</td>\n",
       "      <td>10,31</td>\n",
       "    </tr>\n",
       "    <tr>\n",
       "      <th>196</th>\n",
       "      <td>23/09/2018</td>\n",
       "      <td>63</td>\n",
       "      <td>75</td>\n",
       "      <td>89</td>\n",
       "      <td>72</td>\n",
       "      <td>68</td>\n",
       "      <td>84</td>\n",
       "      <td>83</td>\n",
       "      <td>Switzerland</td>\n",
       "      <td>7523934.0</td>\n",
       "      <td>41290</td>\n",
       "      <td>0,00</td>\n",
       "      <td>4,39</td>\n",
       "      <td>32700</td>\n",
       "      <td>99,0</td>\n",
       "      <td>680,9</td>\n",
       "      <td>0,61</td>\n",
       "      <td>88,97</td>\n",
       "      <td>9,71</td>\n",
       "      <td>8,49</td>\n",
       "    </tr>\n",
       "    <tr>\n",
       "      <th>197</th>\n",
       "      <td>30/09/2018</td>\n",
       "      <td>64</td>\n",
       "      <td>72</td>\n",
       "      <td>92</td>\n",
       "      <td>67</td>\n",
       "      <td>72</td>\n",
       "      <td>84</td>\n",
       "      <td>79</td>\n",
       "      <td>Syria</td>\n",
       "      <td>18881361.0</td>\n",
       "      <td>185180</td>\n",
       "      <td>0,10</td>\n",
       "      <td>29,53</td>\n",
       "      <td>3300</td>\n",
       "      <td>76,9</td>\n",
       "      <td>153,8</td>\n",
       "      <td>4,43</td>\n",
       "      <td>70,35</td>\n",
       "      <td>27,76</td>\n",
       "      <td>4,81</td>\n",
       "    </tr>\n",
       "    <tr>\n",
       "      <th>198</th>\n",
       "      <td>07/10/2018</td>\n",
       "      <td>63</td>\n",
       "      <td>76</td>\n",
       "      <td>91</td>\n",
       "      <td>72</td>\n",
       "      <td>71</td>\n",
       "      <td>87</td>\n",
       "      <td>84</td>\n",
       "      <td>Taiwan</td>\n",
       "      <td>23036087.0</td>\n",
       "      <td>35980</td>\n",
       "      <td>4,35</td>\n",
       "      <td>6,4</td>\n",
       "      <td>23400</td>\n",
       "      <td>96,1</td>\n",
       "      <td>591,0</td>\n",
       "      <td>1</td>\n",
       "      <td>75</td>\n",
       "      <td>12,56</td>\n",
       "      <td>6,48</td>\n",
       "    </tr>\n",
       "    <tr>\n",
       "      <th>199</th>\n",
       "      <td>14/10/2018</td>\n",
       "      <td>63</td>\n",
       "      <td>72</td>\n",
       "      <td>87</td>\n",
       "      <td>64</td>\n",
       "      <td>68</td>\n",
       "      <td>85</td>\n",
       "      <td>85</td>\n",
       "      <td>Tajikistan</td>\n",
       "      <td>7320815.0</td>\n",
       "      <td>143100</td>\n",
       "      <td>0,00</td>\n",
       "      <td>110,76</td>\n",
       "      <td>1000</td>\n",
       "      <td>99,4</td>\n",
       "      <td>33,5</td>\n",
       "      <td>0,92</td>\n",
       "      <td>92,47</td>\n",
       "      <td>32,65</td>\n",
       "      <td>8,25</td>\n",
       "    </tr>\n",
       "  </tbody>\n",
       "</table>\n",
       "<p>200 rows × 20 columns</p>\n",
       "</div>"
      ],
      "text/plain": [
       "           week  analytics  artificial intelligence  big data  data mining  \\\n",
       "0    21/12/2014         63                       23        53           68   \n",
       "1    28/12/2014         59                       22        54           60   \n",
       "2    04/01/2015         90                       28        76           88   \n",
       "3    11/01/2015         94                       33        76           88   \n",
       "4    18/01/2015         93                       33        78           91   \n",
       "..          ...        ...                      ...       ...          ...   \n",
       "195  16/09/2018         65                       77        91           69   \n",
       "196  23/09/2018         63                       75        89           72   \n",
       "197  30/09/2018         64                       72        92           67   \n",
       "198  07/10/2018         63                       76        91           72   \n",
       "199  14/10/2018         63                       72        87           64   \n",
       "\n",
       "     data science  machine learning  python          Country  Population  \\\n",
       "0              11                14      29     Afghanistan   31056997.0   \n",
       "1              13                13      28         Albania    3581655.0   \n",
       "2              18                18      35         Algeria          NaN   \n",
       "3              20                21      37  American Samoa      57794.0   \n",
       "4              19                19      38         Andorra      71201.0   \n",
       "..            ...               ...     ...              ...         ...   \n",
       "195            71                84      82          Sweden    9016596.0   \n",
       "196            68                84      83     Switzerland    7523934.0   \n",
       "197            72                84      79           Syria   18881361.0   \n",
       "198            71                87      84          Taiwan   23036087.0   \n",
       "199            68                85      85      Tajikistan    7320815.0   \n",
       "\n",
       "     Area (sq. mi.) Coastline (coast/area ratio)  \\\n",
       "0            647500                         0,00   \n",
       "1             28748                         1,26   \n",
       "2           2381740                         0,04   \n",
       "3               199                        58,29   \n",
       "4               468                         0,00   \n",
       "..              ...                          ...   \n",
       "195          449964                         0,72   \n",
       "196           41290                         0,00   \n",
       "197          185180                         0,10   \n",
       "198           35980                         4,35   \n",
       "199          143100                         0,00   \n",
       "\n",
       "    Infant mortality (per 1000 births)  GDP ($ per capita) Literacy (%)  \\\n",
       "0                               163,07                 700         36,0   \n",
       "1                                21,52                4500         86,5   \n",
       "2                                   31                6000         70,0   \n",
       "3                                 9,27                8000         97,0   \n",
       "4                                 4,05               19000        100,0   \n",
       "..                                 ...                 ...          ...   \n",
       "195                               2,77               26800         99,0   \n",
       "196                               4,39               32700         99,0   \n",
       "197                              29,53                3300         76,9   \n",
       "198                                6,4               23400         96,1   \n",
       "199                             110,76                1000         99,4   \n",
       "\n",
       "    Phones (per 1000) Crops (%) Other (%) Birthrate Deathrate  \n",
       "0                 3,2      0,22     87,65      46,6     20,34  \n",
       "1                71,2      4,42     74,49     15,11      5,22  \n",
       "2                78,1      0,25     96,53     17,14      4,61  \n",
       "3               259,5        15        75     22,46      3,27  \n",
       "4               497,2         0     97,78      8,71      6,25  \n",
       "..                ...       ...       ...       ...       ...  \n",
       "195             715,0      0,01     93,45     10,27     10,31  \n",
       "196             680,9      0,61     88,97      9,71      8,49  \n",
       "197             153,8      4,43     70,35     27,76      4,81  \n",
       "198             591,0         1        75     12,56      6,48  \n",
       "199              33,5      0,92     92,47     32,65      8,25  \n",
       "\n",
       "[200 rows x 20 columns]"
      ]
     },
     "execution_count": 33,
     "metadata": {},
     "output_type": "execute_result"
    }
   ],
   "source": [
    "import pandas as pd\n",
    "import numpy as np\n",
    "import matplotlib.pyplot as plt\n",
    "%matplotlib inline\n",
    "#TIP: when you copy and paste the path to your file, always make sure to correct the slashes and backslashes!\n",
    "\n",
    "#Reading the file & for example, use only the 200 hundret first rows\n",
    "file = (r\"C:\\Users\\Rakibul\\Desktop\\6th semester\\Data Analysis and Visualization\\exercises/Rakibul_Islam_dataset.csv\")\n",
    "df = pd.read_csv(file, nrows=200, skiprows = 1)\n",
    "df"
   ]
  },
  {
   "cell_type": "code",
   "execution_count": 34,
   "metadata": {},
   "outputs": [
    {
     "data": {
      "text/plain": [
       "analytics                  7.654000e+01\n",
       "artificial intelligence    4.971500e+01\n",
       "big data                   8.211500e+01\n",
       "data mining                7.591500e+01\n",
       "data science               3.856000e+01\n",
       "machine learning           4.759500e+01\n",
       "python                     5.704000e+01\n",
       "Population                 2.849722e+07\n",
       "Area (sq. mi.)             5.911076e+05\n",
       "GDP ($ per capita)         9.966000e+03\n",
       "dtype: float64"
      ]
     },
     "execution_count": 34,
     "metadata": {},
     "output_type": "execute_result"
    }
   ],
   "source": [
    "df.mean()"
   ]
  },
  {
   "cell_type": "code",
   "execution_count": 35,
   "metadata": {},
   "outputs": [
    {
     "name": "stdout",
     "output_type": "stream",
     "text": [
      "82.115\n"
     ]
    }
   ],
   "source": [
    "#Mean\n",
    "\n",
    "bigdata_mean = df[\"big data\"].mean()\n",
    "print(bigdata_mean)"
   ]
  },
  {
   "cell_type": "code",
   "execution_count": 36,
   "metadata": {},
   "outputs": [
    {
     "name": "stdout",
     "output_type": "stream",
     "text": [
      "83.0\n"
     ]
    }
   ],
   "source": [
    "# Median\n",
    "\n",
    "bigdata_median = df[\"big data\"].median()\n",
    "print(bigdata_median)"
   ]
  },
  {
   "cell_type": "code",
   "execution_count": 37,
   "metadata": {},
   "outputs": [
    {
     "name": "stdout",
     "output_type": "stream",
     "text": [
      "0    91\n",
      "dtype: int64\n"
     ]
    }
   ],
   "source": [
    "#Mode\n",
    "\n",
    "bigdata_mode = df[\"big data\"].mode()\n",
    "print(bigdata_mode)"
   ]
  },
  {
   "cell_type": "code",
   "execution_count": 38,
   "metadata": {},
   "outputs": [
    {
     "name": "stdout",
     "output_type": "stream",
     "text": [
      "0      53\n",
      "1      54\n",
      "2      76\n",
      "3      76\n",
      "4      78\n",
      "       ..\n",
      "195    91\n",
      "196    89\n",
      "197    92\n",
      "198    91\n",
      "199    87\n",
      "Name: big data, Length: 200, dtype: int64\n"
     ]
    }
   ],
   "source": [
    "# Rolling mean\n",
    "print(df['big data'])"
   ]
  },
  {
   "cell_type": "code",
   "execution_count": 39,
   "metadata": {},
   "outputs": [
    {
     "name": "stdout",
     "output_type": "stream",
     "text": [
      "0       NaN\n",
      "1      53.5\n",
      "2      65.0\n",
      "3      76.0\n",
      "4      77.0\n",
      "       ... \n",
      "195    89.5\n",
      "196    90.0\n",
      "197    90.5\n",
      "198    91.5\n",
      "199    89.0\n",
      "Name: big data, Length: 200, dtype: float64\n"
     ]
    }
   ],
   "source": [
    "# Applying the rolling mean using 2 data point as calculation window\n",
    "bigdata_rmean = df['big data'].rolling(window=2).mean()\n",
    "print(bigdata_rmean)"
   ]
  },
  {
   "cell_type": "code",
   "execution_count": 40,
   "metadata": {},
   "outputs": [
    {
     "name": "stdout",
     "output_type": "stream",
     "text": [
      "0      53.0\n",
      "1      53.5\n",
      "2      65.0\n",
      "3      76.0\n",
      "4      77.0\n",
      "       ... \n",
      "195    89.5\n",
      "196    90.0\n",
      "197    90.5\n",
      "198    91.5\n",
      "199    89.0\n",
      "Name: big data, Length: 200, dtype: float64\n"
     ]
    }
   ],
   "source": [
    "bigdata_rmean = df['big data'].rolling(window=2, min_periods = 1).mean()\n",
    "print(bigdata_rmean)"
   ]
  },
  {
   "cell_type": "code",
   "execution_count": 41,
   "metadata": {},
   "outputs": [
    {
     "name": "stdout",
     "output_type": "stream",
     "text": [
      "8.01322500620069\n"
     ]
    }
   ],
   "source": [
    "#As usual you can calculate the standart deviation for either the whole data set or for individial columns\n",
    "#STD\n",
    "\n",
    "std_ds = np.std(df)\n",
    "#print(std_ds) #STD for whole data set\n",
    "\n",
    "bigdata_std = np.std(df[\"big data\"])\n",
    "print(bigdata_std)"
   ]
  },
  {
   "cell_type": "code",
   "execution_count": 42,
   "metadata": {},
   "outputs": [
    {
     "name": "stdout",
     "output_type": "stream",
     "text": [
      "The min is :  53\n"
     ]
    }
   ],
   "source": [
    "#Min\n",
    "print( 'The min is : ', min (df['big data']))\n"
   ]
  },
  {
   "cell_type": "code",
   "execution_count": 43,
   "metadata": {},
   "outputs": [
    {
     "name": "stdout",
     "output_type": "stream",
     "text": [
      "The max is :  98\n"
     ]
    }
   ],
   "source": [
    "#Max\n",
    "print('The max is : ', max(df['big data']))"
   ]
  },
  {
   "cell_type": "code",
   "execution_count": 44,
   "metadata": {},
   "outputs": [
    {
     "data": {
      "text/html": [
       "<div>\n",
       "<style scoped>\n",
       "    .dataframe tbody tr th:only-of-type {\n",
       "        vertical-align: middle;\n",
       "    }\n",
       "\n",
       "    .dataframe tbody tr th {\n",
       "        vertical-align: top;\n",
       "    }\n",
       "\n",
       "    .dataframe thead th {\n",
       "        text-align: right;\n",
       "    }\n",
       "</style>\n",
       "<table border=\"1\" class=\"dataframe\">\n",
       "  <thead>\n",
       "    <tr style=\"text-align: right;\">\n",
       "      <th></th>\n",
       "      <th>analytics</th>\n",
       "      <th>artificial intelligence</th>\n",
       "      <th>big data</th>\n",
       "      <th>data mining</th>\n",
       "      <th>data science</th>\n",
       "      <th>machine learning</th>\n",
       "      <th>python</th>\n",
       "      <th>Population</th>\n",
       "      <th>Area (sq. mi.)</th>\n",
       "      <th>GDP ($ per capita)</th>\n",
       "    </tr>\n",
       "  </thead>\n",
       "  <tbody>\n",
       "    <tr>\n",
       "      <th>count</th>\n",
       "      <td>200.000000</td>\n",
       "      <td>200.000000</td>\n",
       "      <td>200.000000</td>\n",
       "      <td>200.000000</td>\n",
       "      <td>200.000000</td>\n",
       "      <td>200.000000</td>\n",
       "      <td>200.000000</td>\n",
       "      <td>1.990000e+02</td>\n",
       "      <td>2.000000e+02</td>\n",
       "      <td>200.000000</td>\n",
       "    </tr>\n",
       "    <tr>\n",
       "      <th>mean</th>\n",
       "      <td>76.540000</td>\n",
       "      <td>49.715000</td>\n",
       "      <td>82.115000</td>\n",
       "      <td>75.915000</td>\n",
       "      <td>38.560000</td>\n",
       "      <td>47.595000</td>\n",
       "      <td>57.040000</td>\n",
       "      <td>2.849722e+07</td>\n",
       "      <td>5.911076e+05</td>\n",
       "      <td>9966.000000</td>\n",
       "    </tr>\n",
       "    <tr>\n",
       "      <th>std</th>\n",
       "      <td>10.407207</td>\n",
       "      <td>17.301168</td>\n",
       "      <td>8.033334</td>\n",
       "      <td>11.118267</td>\n",
       "      <td>15.776912</td>\n",
       "      <td>22.319088</td>\n",
       "      <td>13.983062</td>\n",
       "      <td>1.241156e+08</td>\n",
       "      <td>1.790798e+06</td>\n",
       "      <td>10129.867476</td>\n",
       "    </tr>\n",
       "    <tr>\n",
       "      <th>min</th>\n",
       "      <td>43.000000</td>\n",
       "      <td>22.000000</td>\n",
       "      <td>53.000000</td>\n",
       "      <td>52.000000</td>\n",
       "      <td>11.000000</td>\n",
       "      <td>13.000000</td>\n",
       "      <td>28.000000</td>\n",
       "      <td>7.026000e+03</td>\n",
       "      <td>2.000000e+00</td>\n",
       "      <td>500.000000</td>\n",
       "    </tr>\n",
       "    <tr>\n",
       "      <th>25%</th>\n",
       "      <td>70.000000</td>\n",
       "      <td>34.750000</td>\n",
       "      <td>77.000000</td>\n",
       "      <td>67.000000</td>\n",
       "      <td>26.000000</td>\n",
       "      <td>27.000000</td>\n",
       "      <td>44.000000</td>\n",
       "      <td>4.376240e+05</td>\n",
       "      <td>3.760750e+03</td>\n",
       "      <td>1900.000000</td>\n",
       "    </tr>\n",
       "    <tr>\n",
       "      <th>50%</th>\n",
       "      <td>75.000000</td>\n",
       "      <td>45.500000</td>\n",
       "      <td>83.000000</td>\n",
       "      <td>77.000000</td>\n",
       "      <td>35.500000</td>\n",
       "      <td>43.500000</td>\n",
       "      <td>56.000000</td>\n",
       "      <td>4.498976e+06</td>\n",
       "      <td>7.497000e+04</td>\n",
       "      <td>5800.000000</td>\n",
       "    </tr>\n",
       "    <tr>\n",
       "      <th>75%</th>\n",
       "      <td>83.250000</td>\n",
       "      <td>64.000000</td>\n",
       "      <td>88.000000</td>\n",
       "      <td>84.000000</td>\n",
       "      <td>53.000000</td>\n",
       "      <td>70.250000</td>\n",
       "      <td>70.250000</td>\n",
       "      <td>1.389220e+07</td>\n",
       "      <td>3.622245e+05</td>\n",
       "      <td>16725.000000</td>\n",
       "    </tr>\n",
       "    <tr>\n",
       "      <th>max</th>\n",
       "      <td>100.000000</td>\n",
       "      <td>100.000000</td>\n",
       "      <td>98.000000</td>\n",
       "      <td>100.000000</td>\n",
       "      <td>73.000000</td>\n",
       "      <td>87.000000</td>\n",
       "      <td>85.000000</td>\n",
       "      <td>1.313974e+09</td>\n",
       "      <td>1.707520e+07</td>\n",
       "      <td>55100.000000</td>\n",
       "    </tr>\n",
       "  </tbody>\n",
       "</table>\n",
       "</div>"
      ],
      "text/plain": [
       "        analytics  artificial intelligence    big data  data mining  \\\n",
       "count  200.000000               200.000000  200.000000   200.000000   \n",
       "mean    76.540000                49.715000   82.115000    75.915000   \n",
       "std     10.407207                17.301168    8.033334    11.118267   \n",
       "min     43.000000                22.000000   53.000000    52.000000   \n",
       "25%     70.000000                34.750000   77.000000    67.000000   \n",
       "50%     75.000000                45.500000   83.000000    77.000000   \n",
       "75%     83.250000                64.000000   88.000000    84.000000   \n",
       "max    100.000000               100.000000   98.000000   100.000000   \n",
       "\n",
       "       data science  machine learning      python    Population  \\\n",
       "count    200.000000        200.000000  200.000000  1.990000e+02   \n",
       "mean      38.560000         47.595000   57.040000  2.849722e+07   \n",
       "std       15.776912         22.319088   13.983062  1.241156e+08   \n",
       "min       11.000000         13.000000   28.000000  7.026000e+03   \n",
       "25%       26.000000         27.000000   44.000000  4.376240e+05   \n",
       "50%       35.500000         43.500000   56.000000  4.498976e+06   \n",
       "75%       53.000000         70.250000   70.250000  1.389220e+07   \n",
       "max       73.000000         87.000000   85.000000  1.313974e+09   \n",
       "\n",
       "       Area (sq. mi.)  GDP ($ per capita)  \n",
       "count    2.000000e+02          200.000000  \n",
       "mean     5.911076e+05         9966.000000  \n",
       "std      1.790798e+06        10129.867476  \n",
       "min      2.000000e+00          500.000000  \n",
       "25%      3.760750e+03         1900.000000  \n",
       "50%      7.497000e+04         5800.000000  \n",
       "75%      3.622245e+05        16725.000000  \n",
       "max      1.707520e+07        55100.000000  "
      ]
     },
     "execution_count": 44,
     "metadata": {},
     "output_type": "execute_result"
    }
   ],
   "source": [
    "#It gives a summary that provides information about both, the center and the spread of the data\n",
    "df. describe()"
   ]
  },
  {
   "cell_type": "code",
   "execution_count": 45,
   "metadata": {},
   "outputs": [
    {
     "name": "stdout",
     "output_type": "stream",
     "text": [
      "The sum is :  16423\n"
     ]
    }
   ],
   "source": [
    "#Sum\n",
    "\n",
    "#print('The sum is : ',ig dataunction only) returns an output, if exclusivly iterables are present\n",
    "print('The sum is : ',sum(df[\"big data\"]))\n",
    "#print('The sum is : ',np.nansum(df[\"big data\"]))\n"
   ]
  },
  {
   "cell_type": "code",
   "execution_count": 46,
   "metadata": {},
   "outputs": [
    {
     "data": {
      "text/plain": [
       "16423"
      ]
     },
     "execution_count": 46,
     "metadata": {},
     "output_type": "execute_result"
    }
   ],
   "source": [
    "np.nansum(df[\"big data\"])"
   ]
  },
  {
   "cell_type": "code",
   "execution_count": 47,
   "metadata": {},
   "outputs": [
    {
     "name": "stdout",
     "output_type": "stream",
     "text": [
      "     big data  data mining  data science\n",
      "0          53          121           132\n",
      "1          54          114           127\n",
      "2          76          164           182\n",
      "3          76          164           184\n",
      "4          78          169           188\n",
      "..        ...          ...           ...\n",
      "195        91          160           231\n",
      "196        89          161           229\n",
      "197        92          159           231\n",
      "198        91          163           234\n",
      "199        87          151           219\n",
      "\n",
      "[200 rows x 3 columns]\n"
     ]
    }
   ],
   "source": [
    "# Cumulative sum\n",
    "\n",
    "bigdata_datamining_datascience_cumsum = df[['big data', 'data mining', 'data science']]\n",
    "cumsum_all = np.cumsum(bigdata_bigdata_datamining_datascience_cumsum, axis = 1)\n",
    "print(cumsum_all)"
   ]
  },
  {
   "cell_type": "code",
   "execution_count": 48,
   "metadata": {},
   "outputs": [
    {
     "data": {
      "text/plain": [
       "30"
      ]
     },
     "execution_count": 48,
     "metadata": {},
     "output_type": "execute_result"
    }
   ],
   "source": [
    "#Thereshold\n",
    "\n",
    "#EXAMPLE: Let's assume accumulation above an certain value, let's say '90' is exceptional. \n",
    "# We want to know how many times such a value occurs we can use the len() function:\n",
    "\n",
    "bigdata_150 = df[\"big data\"]\n",
    "threshold = bigdata_150 > 90\n",
    "\n",
    "len(bigdata_150[threshold])"
   ]
  },
  {
   "cell_type": "code",
   "execution_count": 49,
   "metadata": {},
   "outputs": [],
   "source": [
    "#Variance\n",
    "\n",
    "#The function var() automatically calculates the mean of the variable\n",
    "bigdata_variance = np.var(df[\"big data\"])"
   ]
  },
  {
   "cell_type": "code",
   "execution_count": 50,
   "metadata": {},
   "outputs": [
    {
     "data": {
      "text/plain": [
       "64.211775"
      ]
     },
     "execution_count": 50,
     "metadata": {},
     "output_type": "execute_result"
    }
   ],
   "source": [
    "# with NaN\n",
    "np.nanvar(df[[\"big data\"]])"
   ]
  },
  {
   "cell_type": "code",
   "execution_count": 51,
   "metadata": {},
   "outputs": [
    {
     "name": "stdout",
     "output_type": "stream",
     "text": [
      "64.21177500000005\n"
     ]
    }
   ],
   "source": [
    "print(bigdata_variance)"
   ]
  },
  {
   "cell_type": "code",
   "execution_count": 52,
   "metadata": {},
   "outputs": [
    {
     "name": "stdout",
     "output_type": "stream",
     "text": [
      "-0.05555555555555566\n"
     ]
    },
    {
     "data": {
      "image/png": "[encoded data removed]",
      "text/plain": [
       "<Figure size 432x288 with 1 Axes>"
      ]
     },
     "metadata": {
      "needs_background": "light"
     },
     "output_type": "display_data"
    }
   ],
   "source": [
    "#Covariance\n",
    "\n",
    "# To test the diffrences of covariance and get a better understanding of the output value, simply run the examples\n",
    "cov1 = [1,2,3,4,5,6,7,8,9,10] #for x axis\n",
    "cov2 = [10,9,8,7,6,5,4,3,2,1] # for y axis\n",
    "cov3 = [6,3,2,6,7,4,7,9,3,2,] # for y axix\n",
    "\n",
    "#Negative correlation\n",
    "covariance1 = np.ma.cov(cov1, cov3)[0, 1]\n",
    "print(covariance1)\n",
    "plt.plot(cov1, cov3)\n",
    "plt.show()"
   ]
  },
  {
   "cell_type": "code",
   "execution_count": 53,
   "metadata": {},
   "outputs": [
    {
     "name": "stdout",
     "output_type": "stream",
     "text": [
      "9.166666666666666\n"
     ]
    },
    {
     "data": {
      "image/png": "[encoded data removed]",
      "text/plain": [
       "<Figure size 432x288 with 1 Axes>"
      ]
     },
     "metadata": {
      "needs_background": "light"
     },
     "output_type": "display_data"
    }
   ],
   "source": [
    "#Positive correlation\n",
    "covariance2 = np.ma.cov(cov1, cov1)[0,1]\n",
    "print(covariance2)\n",
    "plt.plot(cov1, cov1)\n",
    "plt.show()"
   ]
  },
  {
   "cell_type": "code",
   "execution_count": 54,
   "metadata": {},
   "outputs": [
    {
     "name": "stdout",
     "output_type": "stream",
     "text": [
      "0.05555555555555566\n"
     ]
    },
    {
     "data": {
      "image/png": "[encoded data removed]",
      "text/plain": [
       "<Figure size 432x288 with 1 Axes>"
      ]
     },
     "metadata": {
      "needs_background": "light"
     },
     "output_type": "display_data"
    }
   ],
   "source": [
    "#No detectable correlation\n",
    "covariance3 = np.ma.cov(cov2, cov3)[0,1]\n",
    "print(covariance3)\n",
    "plt.plot(cov2, cov3)\n",
    "plt.show()"
   ]
  },
  {
   "cell_type": "code",
   "execution_count": 55,
   "metadata": {},
   "outputs": [
    {
     "name": "stdout",
     "output_type": "stream",
     "text": [
      "                   big data\n",
      "machine learning           \n",
      "13                54.000000\n",
      "14                53.000000\n",
      "18                76.000000\n",
      "19                82.000000\n",
      "20                82.142857\n",
      "21                78.300000\n",
      "22                77.727273\n",
      "23                77.750000\n",
      "24                79.400000\n",
      "25                83.000000\n",
      "26                79.200000\n",
      "27                87.666667\n",
      "28                81.000000\n",
      "29                83.000000\n",
      "30                82.833333\n",
      "31                76.200000\n",
      "32                81.400000\n",
      "33                82.000000\n",
      "34                77.200000\n",
      "36                79.000000\n",
      "37                86.000000\n",
      "40                86.000000\n",
      "41                84.000000\n",
      "42                86.500000\n",
      "43                79.500000\n",
      "44                79.333333\n",
      "46                87.500000\n",
      "47                91.000000\n",
      "48                89.000000\n",
      "49                85.000000\n",
      "50                85.000000\n",
      "51                90.000000\n",
      "53                91.500000\n",
      "55                72.000000\n",
      "56                94.500000\n",
      "57                85.000000\n",
      "58                86.250000\n",
      "59                84.200000\n",
      "60                80.500000\n",
      "61                84.000000\n",
      "62                79.000000\n",
      "63                77.666667\n",
      "64                81.000000\n",
      "67                91.000000\n",
      "69                90.500000\n",
      "70                84.666667\n",
      "71                89.000000\n",
      "72                86.333333\n",
      "73                71.500000\n",
      "74                85.500000\n",
      "75                89.500000\n",
      "76                87.000000\n",
      "77                78.142857\n",
      "78                84.666667\n",
      "79                82.769231\n",
      "80                88.500000\n",
      "81                83.666667\n",
      "84                90.000000\n",
      "85                87.000000\n",
      "87                91.000000\n"
     ]
    }
   ],
   "source": [
    "# Group by to pivot table,e.g. to get information on 'big data' along the country\n",
    "pivot1 = df.pivot_table(values = \"big data\", index= \"machine learning\")\n",
    "print(pivot1)\n"
   ]
  },
  {
   "cell_type": "code",
   "execution_count": 56,
   "metadata": {},
   "outputs": [
    {
     "name": "stdout",
     "output_type": "stream",
     "text": [
      "big data            53    54    55    57    60    62    67    70    71    72  \\\n",
      "machine learning                                                               \n",
      "13                 NaN  28.0   NaN   NaN   NaN   NaN   NaN   NaN   NaN   NaN   \n",
      "14                29.0   NaN   NaN   NaN   NaN   NaN   NaN   NaN   NaN   NaN   \n",
      "18                 NaN   NaN   NaN   NaN   NaN   NaN   NaN   NaN   NaN   NaN   \n",
      "19                 NaN   NaN   NaN   NaN   NaN   NaN   NaN   NaN   NaN   NaN   \n",
      "20                 NaN   NaN   NaN   NaN   NaN   NaN   NaN   NaN   NaN   NaN   \n",
      "21                 NaN   NaN  33.0   NaN   NaN   NaN   NaN   NaN   NaN   NaN   \n",
      "22                 NaN   NaN   NaN   NaN   NaN   NaN   NaN   NaN  39.0   NaN   \n",
      "23                 NaN   NaN   NaN   NaN   NaN   NaN   NaN   NaN   NaN  41.0   \n",
      "24                 NaN   NaN   NaN   NaN  36.0   NaN   NaN   NaN   NaN   NaN   \n",
      "25                 NaN   NaN   NaN   NaN   NaN   NaN   NaN   NaN   NaN   NaN   \n",
      "26                 NaN   NaN   NaN   NaN   NaN   NaN   NaN   NaN   NaN   NaN   \n",
      "27                 NaN   NaN   NaN   NaN   NaN   NaN   NaN   NaN   NaN   NaN   \n",
      "28                 NaN   NaN   NaN   NaN   NaN  41.0   NaN   NaN   NaN   NaN   \n",
      "29                 NaN   NaN   NaN   NaN   NaN   NaN   NaN   NaN   NaN   NaN   \n",
      "30                 NaN   NaN   NaN   NaN   NaN   NaN   NaN   NaN   NaN   NaN   \n",
      "31                 NaN   NaN   NaN   NaN   NaN   NaN   NaN  46.0   NaN   NaN   \n",
      "32                 NaN   NaN   NaN   NaN   NaN   NaN   NaN   NaN   NaN  48.0   \n",
      "33                 NaN   NaN   NaN   NaN   NaN   NaN   NaN   NaN   NaN   NaN   \n",
      "34                 NaN   NaN   NaN  42.0   NaN   NaN   NaN   NaN   NaN   NaN   \n",
      "36                 NaN   NaN   NaN   NaN   NaN   NaN   NaN   NaN   NaN   NaN   \n",
      "37                 NaN   NaN   NaN   NaN   NaN   NaN   NaN   NaN   NaN   NaN   \n",
      "40                 NaN   NaN   NaN   NaN   NaN   NaN   NaN   NaN   NaN   NaN   \n",
      "41                 NaN   NaN   NaN   NaN   NaN   NaN   NaN   NaN   NaN   NaN   \n",
      "42                 NaN   NaN   NaN   NaN   NaN   NaN   NaN   NaN   NaN   NaN   \n",
      "43                 NaN   NaN   NaN   NaN   NaN   NaN   NaN   NaN   NaN  51.0   \n",
      "44                 NaN   NaN   NaN   NaN   NaN   NaN   NaN  51.0   NaN   NaN   \n",
      "46                 NaN   NaN   NaN   NaN   NaN   NaN   NaN   NaN   NaN   NaN   \n",
      "47                 NaN   NaN   NaN   NaN   NaN   NaN   NaN   NaN   NaN   NaN   \n",
      "48                 NaN   NaN   NaN   NaN   NaN   NaN   NaN   NaN   NaN   NaN   \n",
      "49                 NaN   NaN   NaN   NaN   NaN   NaN   NaN   NaN   NaN   NaN   \n",
      "50                 NaN   NaN   NaN   NaN   NaN   NaN   NaN   NaN   NaN   NaN   \n",
      "51                 NaN   NaN   NaN   NaN   NaN   NaN   NaN   NaN   NaN   NaN   \n",
      "53                 NaN   NaN   NaN   NaN   NaN   NaN   NaN   NaN   NaN   NaN   \n",
      "55                51.0   NaN   NaN   NaN   NaN   NaN   NaN   NaN   NaN   NaN   \n",
      "56                 NaN   NaN   NaN   NaN   NaN   NaN   NaN   NaN   NaN   NaN   \n",
      "57                 NaN   NaN   NaN   NaN   NaN   NaN   NaN   NaN   NaN   NaN   \n",
      "58                 NaN   NaN   NaN   NaN   NaN   NaN   NaN   NaN   NaN   NaN   \n",
      "59                 NaN   NaN   NaN   NaN   NaN   NaN   NaN   NaN   NaN  58.0   \n",
      "60                 NaN   NaN   NaN   NaN   NaN   NaN   NaN   NaN   NaN   NaN   \n",
      "61                 NaN   NaN   NaN   NaN   NaN   NaN   NaN   NaN   NaN   NaN   \n",
      "62                 NaN   NaN   NaN   NaN   NaN   NaN   NaN   NaN   NaN   NaN   \n",
      "63                 NaN   NaN   NaN   NaN   NaN   NaN  57.0   NaN   NaN   NaN   \n",
      "64                 NaN   NaN   NaN   NaN   NaN   NaN   NaN   NaN   NaN   NaN   \n",
      "67                 NaN   NaN   NaN   NaN   NaN   NaN   NaN   NaN   NaN   NaN   \n",
      "69                 NaN   NaN   NaN   NaN   NaN   NaN   NaN   NaN   NaN   NaN   \n",
      "70                 NaN   NaN   NaN   NaN   NaN   NaN   NaN   NaN   NaN   NaN   \n",
      "71                 NaN   NaN   NaN   NaN   NaN   NaN   NaN   NaN   NaN   NaN   \n",
      "72                 NaN   NaN   NaN   NaN   NaN   NaN   NaN   NaN   NaN   NaN   \n",
      "73                 NaN   NaN   NaN   NaN   NaN   NaN   NaN   NaN  69.0  68.0   \n",
      "74                 NaN   NaN   NaN   NaN   NaN   NaN   NaN   NaN   NaN   NaN   \n",
      "75                 NaN   NaN   NaN   NaN   NaN   NaN   NaN   NaN   NaN   NaN   \n",
      "76                 NaN   NaN   NaN   NaN   NaN   NaN   NaN   NaN   NaN   NaN   \n",
      "77                 NaN   NaN   NaN   NaN   NaN   NaN   NaN   NaN   NaN   NaN   \n",
      "78                 NaN   NaN   NaN   NaN   NaN   NaN   NaN   NaN   NaN   NaN   \n",
      "79                 NaN   NaN   NaN   NaN   NaN   NaN   NaN   NaN   NaN   NaN   \n",
      "80                 NaN   NaN   NaN   NaN   NaN   NaN   NaN   NaN   NaN   NaN   \n",
      "81                 NaN   NaN   NaN   NaN   NaN   NaN   NaN   NaN   NaN   NaN   \n",
      "84                 NaN   NaN   NaN   NaN   NaN   NaN   NaN   NaN   NaN   NaN   \n",
      "85                 NaN   NaN   NaN   NaN   NaN   NaN   NaN   NaN   NaN   NaN   \n",
      "87                 NaN   NaN   NaN   NaN   NaN   NaN   NaN   NaN   NaN   NaN   \n",
      "\n",
      "big data          ...    88    89    90    91    92    93    95    96    97  \\\n",
      "machine learning  ...                                                         \n",
      "13                ...   NaN   NaN   NaN   NaN   NaN   NaN   NaN   NaN   NaN   \n",
      "14                ...   NaN   NaN   NaN   NaN   NaN   NaN   NaN   NaN   NaN   \n",
      "18                ...   NaN   NaN   NaN   NaN   NaN   NaN   NaN   NaN   NaN   \n",
      "19                ...   NaN   NaN   NaN   NaN   NaN   NaN   NaN   NaN   NaN   \n",
      "20                ...   NaN   NaN  41.0   NaN   NaN   NaN   NaN   NaN   NaN   \n",
      "21                ...   NaN  41.0   NaN   NaN   NaN   NaN   NaN   NaN   NaN   \n",
      "22                ...   NaN   NaN   NaN   NaN   NaN   NaN   NaN   NaN   NaN   \n",
      "23                ...   NaN   NaN   NaN   NaN   NaN   NaN   NaN   NaN   NaN   \n",
      "24                ...   NaN   NaN   NaN   NaN   NaN   NaN   NaN   NaN   NaN   \n",
      "25                ...   NaN   NaN   NaN   NaN   NaN   NaN   NaN   NaN   NaN   \n",
      "26                ...   NaN   NaN   NaN   NaN   NaN   NaN   NaN   NaN   NaN   \n",
      "27                ...   NaN   NaN  46.0   NaN   NaN   NaN   NaN   NaN   NaN   \n",
      "28                ...   NaN   NaN   NaN  53.0   NaN   NaN   NaN   NaN   NaN   \n",
      "29                ...   NaN   NaN  49.0   NaN   NaN   NaN   NaN   NaN   NaN   \n",
      "30                ...   NaN   NaN   NaN   NaN  52.0   NaN   NaN   NaN   NaN   \n",
      "31                ...   NaN   NaN   NaN   NaN   NaN   NaN   NaN   NaN   NaN   \n",
      "32                ...   NaN   NaN  52.0   NaN   NaN   NaN   NaN   NaN   NaN   \n",
      "33                ...   NaN   NaN   NaN   NaN   NaN   NaN   NaN   NaN   NaN   \n",
      "34                ...   NaN   NaN   NaN   NaN   NaN   NaN   NaN   NaN   NaN   \n",
      "36                ...   NaN   NaN   NaN   NaN   NaN   NaN   NaN   NaN   NaN   \n",
      "37                ...   NaN   NaN   NaN   NaN   NaN   NaN   NaN   NaN   NaN   \n",
      "40                ...   NaN   NaN  55.0   NaN   NaN   NaN   NaN   NaN   NaN   \n",
      "41                ...   NaN   NaN   NaN   NaN   NaN   NaN   NaN   NaN   NaN   \n",
      "42                ...   NaN   NaN   NaN   NaN   NaN   NaN   NaN   NaN   NaN   \n",
      "43                ...   NaN   NaN   NaN   NaN   NaN   NaN   NaN   NaN   NaN   \n",
      "44                ...   NaN   NaN   NaN   NaN   NaN   NaN   NaN   NaN   NaN   \n",
      "46                ...   NaN   NaN   NaN   NaN   NaN  62.0   NaN   NaN   NaN   \n",
      "47                ...   NaN   NaN   NaN  60.0   NaN   NaN   NaN   NaN   NaN   \n",
      "48                ...   NaN  59.0   NaN   NaN   NaN   NaN   NaN   NaN   NaN   \n",
      "49                ...   NaN   NaN   NaN   NaN   NaN   NaN   NaN   NaN   NaN   \n",
      "50                ...   NaN   NaN   NaN   NaN   NaN   NaN   NaN   NaN   NaN   \n",
      "51                ...   NaN   NaN  61.0   NaN   NaN   NaN   NaN   NaN   NaN   \n",
      "53                ...   NaN   NaN  65.0   NaN   NaN  64.0   NaN   NaN   NaN   \n",
      "55                ...   NaN   NaN   NaN  64.0   NaN   NaN   NaN   NaN   NaN   \n",
      "56                ...   NaN   NaN   NaN  68.0  68.0   NaN   NaN   NaN  67.0   \n",
      "57                ...   NaN   NaN   NaN   NaN  67.0   NaN   NaN   NaN   NaN   \n",
      "58                ...   NaN   NaN  65.0   NaN  65.0   NaN   NaN   NaN   NaN   \n",
      "59                ...   NaN   NaN   NaN   NaN  67.0   NaN   NaN  77.0   NaN   \n",
      "60                ...   NaN   NaN   NaN  65.0   NaN   NaN   NaN   NaN   NaN   \n",
      "61                ...  62.0   NaN   NaN   NaN   NaN   NaN   NaN   NaN   NaN   \n",
      "62                ...   NaN   NaN   NaN   NaN   NaN   NaN   NaN   NaN   NaN   \n",
      "63                ...   NaN   NaN   NaN   NaN   NaN   NaN   NaN   NaN   NaN   \n",
      "64                ...   NaN   NaN   NaN   NaN   NaN   NaN   NaN   NaN   NaN   \n",
      "67                ...   NaN   NaN   NaN  71.0   NaN   NaN   NaN   NaN   NaN   \n",
      "69                ...   NaN   NaN  71.0  70.0   NaN   NaN   NaN   NaN   NaN   \n",
      "70                ...   NaN  69.0   NaN  71.0   NaN   NaN   NaN   NaN   NaN   \n",
      "71                ...   NaN  72.0   NaN   NaN   NaN   NaN   NaN   NaN   NaN   \n",
      "72                ...   NaN   NaN   NaN  73.0   NaN   NaN   NaN   NaN   NaN   \n",
      "73                ...   NaN   NaN   NaN   NaN   NaN   NaN   NaN   NaN   NaN   \n",
      "74                ...   NaN   NaN   NaN   NaN   NaN  73.0   NaN   NaN   NaN   \n",
      "75                ...  74.0   NaN   NaN  72.0   NaN   NaN   NaN   NaN   NaN   \n",
      "76                ...   NaN  76.0   NaN   NaN   NaN   NaN  76.0  74.0   NaN   \n",
      "77                ...   NaN   NaN  78.0   NaN   NaN   NaN   NaN   NaN   NaN   \n",
      "78                ...  72.0   NaN   NaN   NaN   NaN   NaN   NaN   NaN   NaN   \n",
      "79                ...  75.0  78.0   NaN  77.0   NaN   NaN   NaN  75.0   NaN   \n",
      "80                ...   NaN   NaN   NaN  78.0   NaN   NaN   NaN   NaN   NaN   \n",
      "81                ...   NaN   NaN   NaN  78.0   NaN   NaN   NaN   NaN   NaN   \n",
      "84                ...  80.0  83.0   NaN  82.0  79.0   NaN   NaN   NaN   NaN   \n",
      "85                ...   NaN   NaN   NaN   NaN   NaN   NaN   NaN   NaN   NaN   \n",
      "87                ...   NaN   NaN   NaN  84.0   NaN   NaN   NaN   NaN   NaN   \n",
      "\n",
      "big data            98  \n",
      "machine learning        \n",
      "13                 NaN  \n",
      "14                 NaN  \n",
      "18                 NaN  \n",
      "19                 NaN  \n",
      "20                 NaN  \n",
      "21                 NaN  \n",
      "22                 NaN  \n",
      "23                 NaN  \n",
      "24                 NaN  \n",
      "25                 NaN  \n",
      "26                 NaN  \n",
      "27                 NaN  \n",
      "28                 NaN  \n",
      "29                 NaN  \n",
      "30                 NaN  \n",
      "31                 NaN  \n",
      "32                 NaN  \n",
      "33                 NaN  \n",
      "34                 NaN  \n",
      "36                 NaN  \n",
      "37                 NaN  \n",
      "40                 NaN  \n",
      "41                 NaN  \n",
      "42                 NaN  \n",
      "43                 NaN  \n",
      "44                 NaN  \n",
      "46                 NaN  \n",
      "47                 NaN  \n",
      "48                 NaN  \n",
      "49                 NaN  \n",
      "50                 NaN  \n",
      "51                 NaN  \n",
      "53                 NaN  \n",
      "55                 NaN  \n",
      "56                66.0  \n",
      "57                 NaN  \n",
      "58                 NaN  \n",
      "59                 NaN  \n",
      "60                 NaN  \n",
      "61                 NaN  \n",
      "62                 NaN  \n",
      "63                 NaN  \n",
      "64                 NaN  \n",
      "67                 NaN  \n",
      "69                 NaN  \n",
      "70                 NaN  \n",
      "71                 NaN  \n",
      "72                 NaN  \n",
      "73                 NaN  \n",
      "74                 NaN  \n",
      "75                 NaN  \n",
      "76                 NaN  \n",
      "77                 NaN  \n",
      "78                 NaN  \n",
      "79                 NaN  \n",
      "80                 NaN  \n",
      "81                 NaN  \n",
      "84                 NaN  \n",
      "85                 NaN  \n",
      "87                 NaN  \n",
      "\n",
      "[60 rows x 35 columns]\n"
     ]
    }
   ],
   "source": [
    "# Pivot on two variables, to get information on the relationship of python and Country along the Country\n",
    "pivot2 =df.pivot_table(values= 'python', index='machine learning', columns='big data')\n",
    "print(pivot2)"
   ]
  },
  {
   "cell_type": "code",
   "execution_count": 57,
   "metadata": {},
   "outputs": [
    {
     "data": {
      "text/plain": [
       "array([53, 54, 76, 78, 79, 81, 83, 82, 87, 84, 89, 86, 90, 85, 77, 73, 74,\n",
       "       72, 75, 71, 80, 60, 55, 92, 91, 70, 62, 93, 57, 97, 98, 96, 88, 95,\n",
       "       67], dtype=int64)"
      ]
     },
     "execution_count": 57,
     "metadata": {},
     "output_type": "execute_result"
    }
   ],
   "source": [
    "# Check unique values\n",
    "\n",
    "df['big data'].unique()  "
   ]
  },
  {
   "cell_type": "code",
   "execution_count": 58,
   "metadata": {},
   "outputs": [],
   "source": [
    "### 3. Visualizing your data  ###############\n",
    "# Histogram\n"
   ]
  },
  {
   "cell_type": "code",
   "execution_count": 59,
   "metadata": {},
   "outputs": [
    {
     "data": {
      "image/png": "[encoded data removed]",
      "text/plain": [
       "<Figure size 432x288 with 1 Axes>"
      ]
     },
     "metadata": {
      "needs_background": "light"
     },
     "output_type": "display_data"
    }
   ],
   "source": [
    "#Plot the frequency of density values, by dividing the data set into bins. \n",
    "#Check different numbers of bins and see how the histogramm changes.\n",
    "\n",
    "frequency = df[\"data science\"]\n",
    "num_bins = 100\n",
    "\n",
    "plt.hist(frequency, num_bins)\n",
    "\n",
    "plt.show()"
   ]
  },
  {
   "cell_type": "code",
   "execution_count": 60,
   "metadata": {},
   "outputs": [
    {
     "data": {
      "image/png": "[encoded data removed]",
      "text/plain": [
       "<Figure size 432x288 with 1 Axes>"
      ]
     },
     "metadata": {
      "needs_background": "light"
     },
     "output_type": "display_data"
    }
   ],
   "source": [
    "# Bar Chart\n",
    "BigData = df[\"big data\"]  \n",
    "DataScience = df[\"data science\"]  \n",
    "\n",
    "plt.bar(BigData, DataScience)\n",
    "\n",
    "# Easily change the labels\n",
    "plt.xlabel('Big Data')  \n",
    "plt.ylabel('Data Science')\n",
    "\n",
    "plt.show()   "
   ]
  },
  {
   "cell_type": "code",
   "execution_count": 61,
   "metadata": {},
   "outputs": [
    {
     "data": {
      "image/png": "[encoded data removed]",
      "text/plain": [
       "<Figure size 432x288 with 1 Axes>"
      ]
     },
     "metadata": {
      "needs_background": "light"
     },
     "output_type": "display_data"
    }
   ],
   "source": [
    "#Box Plots\n",
    "\n",
    "#To avoid problems with 'NaN's we filter our data for missing values\n",
    "value1=df[\"big data\"]  \n",
    "bigdata = value1[~np.isnan(value1)]\n",
    "\n",
    "value2 = df[\"python\"]\n",
    "python = value2[~np.isnan(value2)]\n",
    "\n",
    "value3=df[\"machine learning\"]  \n",
    "machinelearning = value3[~np.isnan(value3)]\n",
    "\n",
    "value4=df[\"data mining\"]  \n",
    "datamining = value4[~np.isnan(value4)]\n",
    "\n",
    " \n",
    "box_plot_data=[bigdata,python,machinelearning,datamining]\n",
    "plt.boxplot(box_plot_data)\n",
    "\n",
    "plt.show()"
   ]
  },
  {
   "cell_type": "code",
   "execution_count": 62,
   "metadata": {},
   "outputs": [
    {
     "data": {
      "image/png": "[encoded data removed]",
      "text/plain": [
       "<Figure size 432x288 with 1 Axes>"
      ]
     },
     "metadata": {
      "needs_background": "light"
     },
     "output_type": "display_data"
    }
   ],
   "source": [
    "#Displaying similar values or different values to understand their relations.\n",
    "\n",
    "''' Here I want to display two variables (python and data science)\n",
    "and to understand their similarity values. \n",
    "'''\n",
    "\n",
    "weeks = df[\"week\"]   \n",
    "python = df[\"python\"] \n",
    "dataScience = df[\"data science\"]\n",
    "bigData = df['big data']\n",
    "\n",
    "plt.plot(weeks, python, color= \"green\", linewidth=4, alpha = 0.7, label='Python')\n",
    "plt.plot(weeks, dataScience, color= \"blue\", linewidth=1, label='Data Science')\n",
    "plt.plot(weeks, bigData, color= \"red\", linewidth=1, label='Big Data')\n",
    "\n",
    "\n",
    "plt.title('Search Growth for Data Science Term')\n",
    "plt.xlabel('weeks')  \n",
    "plt.ylabel('Search grotwh for data science term')\n",
    "\n",
    "#To display the legend we defined the labels for, we simply add `plt.legend()`\n",
    "plt.legend()\n",
    "\n",
    "plt.savefig(r'C:\\Users\\Rakibul\\Desktop\\6th semester\\Data Analysis and Visualization\\exercises/Search .png',  dpi=300, bbox_inches='tight')\n",
    "\n",
    "plt.show() "
   ]
  },
  {
   "cell_type": "code",
   "execution_count": 63,
   "metadata": {
    "scrolled": true
   },
   "outputs": [
    {
     "data": {
      "image/png": "[encoded data removed]",
      "text/plain": [
       "<Figure size 432x288 with 1 Axes>"
      ]
     },
     "metadata": {
      "needs_background": "light"
     },
     "output_type": "display_data"
    }
   ],
   "source": [
    "# Scatter plots\n",
    "\n",
    "analytics = df[\"analytics\"]  \n",
    "machineLearning = df[\"machine learning\"]  \n",
    "\n",
    "fig1 = plt.scatter(analytics,machineLearning)\n",
    "\n",
    "plt.title('Relationship  Analytics/ Machine Learning')\n",
    "plt.xlabel('Analytics')\n",
    "plt.ylabel('Machine Learning')\n",
    "\n",
    "#To save a figure, simply use the function `plt.savefig()` and insert the path and file name you want to save it\n",
    "plt.savefig(r'C:\\Users\\Rakibul\\Desktop\\6th semester\\Data Analysis and Visualization\\exercises/test.png', dpi=300, bbox_inches='tight')\n",
    "plt.show()"
   ]
  },
  {
   "cell_type": "code",
   "execution_count": null,
   "metadata": {},
   "outputs": [],
   "source": []
  }
 ],
 "metadata": {
  "kernelspec": {
   "display_name": "Python 3",
   "language": "python",
   "name": "python3"
  },
  "language_info": {
   "codemirror_mode": {
    "name": "ipython",
    "version": 3
   },
   "file_extension": ".py",
   "mimetype": "text/x-python",
   "name": "python",
   "nbconvert_exporter": "python",
   "pygments_lexer": "ipython3",
   "version": "3.7.6"
  }
 },
 "nbformat": 4,
 "nbformat_minor": 4
}

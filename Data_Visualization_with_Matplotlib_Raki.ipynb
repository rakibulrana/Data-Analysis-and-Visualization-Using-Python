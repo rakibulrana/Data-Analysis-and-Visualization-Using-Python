{
 "cells": [
  {
   "cell_type": "markdown",
   "metadata": {},
   "source": [
    "### 1. Prepare my data"
   ]
  },
  {
   "cell_type": "code",
   "execution_count": null,
   "metadata": {},
   "outputs": [],
   "source": [
    "import matplotlib.pyplot as plt\n",
    "import pandas as pd\n",
    "import numpy as np\n",
    "\n",
    "# With this piece of code we make sure, that the graph we generate, gets displayed underneath the active cell.\n",
    "%matplotlib inline\n",
    "\n",
    "# We use the same file as in last weeks lecture:\n",
    "file = \"C:\\\\Users\\\\Rakibul\\\\Desktop\\\\6th semester\\\\Data Analysis and Visualization\\\\exercises\\\\Rakibul_Islam_dataset.csv\"\n",
    "df = pd.read_csv(file, skiprows = 1)\n",
    "#df"
   ]
  },
  {
   "cell_type": "markdown",
   "metadata": {},
   "source": [
    "### 2. Plotting my data"
   ]
  },
  {
   "cell_type": "code",
   "execution_count": null,
   "metadata": {},
   "outputs": [],
   "source": [
    "#df.head()"
   ]
  },
  {
   "cell_type": "code",
   "execution_count": null,
   "metadata": {},
   "outputs": [],
   "source": [
    "#a = (i.split('/')[-1] for i in df['week'])\n",
    "#print(*a)"
   ]
  },
  {
   "cell_type": "markdown",
   "metadata": {},
   "source": [
    "#### 2.1.1 Histogramm with a given range"
   ]
  },
  {
   "cell_type": "code",
   "execution_count": null,
   "metadata": {},
   "outputs": [],
   "source": [
    "y=plt.hist(df[\"big data\"],\n",
    "              facecolor = \"gold\",\n",
    "              edgecolor = \"tomato\",\n",
    "              bins = 10,\n",
    "              range = (50, 70))\n",
    "\n",
    "plt.show()"
   ]
  },
  {
   "cell_type": "markdown",
   "metadata": {},
   "source": [
    " <h5  style=\"color:red\"> Fig 1: Histogram with a given range </h5> \n"
   ]
  },
  {
   "cell_type": "markdown",
   "metadata": {},
   "source": [
    "#### 2.1.2 Cumalitive property"
   ]
  },
  {
   "cell_type": "code",
   "execution_count": null,
   "metadata": {},
   "outputs": [],
   "source": [
    "y=plt.hist(df[\"data mining\"],\n",
    "              facecolor = \"tomato\",\n",
    "              edgecolor = \"gold\",\n",
    "              bins = 10,\n",
    "              cumulative = True)\n",
    "\n",
    "plt.show()"
   ]
  },
  {
   "cell_type": "markdown",
   "metadata": {},
   "source": [
    "<h5 style=\"color:red\"> Fig 2: Cumualitive Property </h5>"
   ]
  },
  {
   "cell_type": "markdown",
   "metadata": {},
   "source": [
    "#### 2.1.3 Combine Cumalitive property and Given ranged Histogram"
   ]
  },
  {
   "cell_type": "code",
   "execution_count": null,
   "metadata": {},
   "outputs": [],
   "source": [
    "y=plt.hist(df[\"data mining\"],\n",
    "              facecolor = \"tomato\",\n",
    "              edgecolor = \"gold\",\n",
    "              bins = 10,\n",
    "              cumulative = True)\n",
    "\n",
    "y=plt.hist(df[\"big data\"],\n",
    "              facecolor = \"gold\",\n",
    "              edgecolor = \"tomato\",\n",
    "              bins = 10,\n",
    "              range = (10, 100))\n",
    "\n",
    "plt.show()"
   ]
  },
  {
   "cell_type": "markdown",
   "metadata": {},
   "source": [
    "<h5 style=\"color:red\"> Fig 3: Combine Cumalitive property and Given ranged Histogram </h5>"
   ]
  },
  {
   "cell_type": "markdown",
   "metadata": {},
   "source": [
    "#### 2.2 Pie chart"
   ]
  },
  {
   "cell_type": "code",
   "execution_count": null,
   "metadata": {
    "scrolled": true
   },
   "outputs": [],
   "source": [
    "# Importing stats from scipy\n",
    "from scipy import stats\n",
    "\n",
    "# Calculating the frequency of individual density values\n",
    "freq_bigData = stats.itemfreq(df[\"big data\"])\n",
    "\n",
    "# Calculations on frequency are transformed to DataFrame(df1)\n",
    "df1 = pd.DataFrame(freq_bigData, columns=['big data', 'Frequency'])\n",
    "#F = df1['Frequency'].iloc[0:37]\n",
    "F = df1['Frequency'].iloc[0:6]\n",
    "# Calculating percentage distribution (902 = number of rows)\n",
    "Frequency_bigData = F *100/260"
   ]
  },
  {
   "cell_type": "code",
   "execution_count": null,
   "metadata": {},
   "outputs": [],
   "source": [
    "x = df[\"big data\"].unique()"
   ]
  },
  {
   "cell_type": "code",
   "execution_count": null,
   "metadata": {},
   "outputs": [],
   "source": [
    "len(x)\n",
    "Frequency_bigData"
   ]
  },
  {
   "cell_type": "code",
   "execution_count": null,
   "metadata": {},
   "outputs": [],
   "source": [
    "df[\"big data\"].unique()"
   ]
  },
  {
   "cell_type": "code",
   "execution_count": null,
   "metadata": {},
   "outputs": [],
   "source": [
    "#pie chart\n",
    "\n",
    "# lables of my data column\n",
    "#labels ='53  search/week', '54 search/week','76 search/week', '78 search/week','79 search/week','81 search/week', '83 search/week','82 search/week','87 search/week', '84 search/week','89 search/week','86 search/week','90 search/week','85 search/week','77 search/week','73 search/week','74 search/week','72 search/week','75 search/week','71 search/week','80 search/week','60 search/week','55 search/week','92 search/week','91 search/week','70 search/week','62 search/week','93 search/week','57 search/week','97 search/week','98 search/week','96 search/week','88 search/week','95 search/week','67 search/week','100 search/week','68 search/week' \n",
    "labels ='53  search/week','76 search/week','81 search/week','90 search/week','60 search/week','100 search/week' \n",
    "\n",
    "#Define the size of the slice\n",
    "sizes = Frequency_bigData\n",
    "\n",
    "# Defining that everything is plotted together.\n",
    "fig1, ax1 = plt.subplots()\n",
    "\n",
    "\n",
    "#print(len(labels),len(sizes))\n",
    "# #Filling the pie with Information\n",
    "ax1.pie(sizes, labels=labels, autopct='%1.1f%%', startangle=90)\n",
    "\n",
    "# Equal aspect ratio ensures that pie is drawn as a circle.\n",
    "ax1.axis('equal')  \n",
    "\n",
    "# Add a title\n",
    "plt.title(\"Six unique search values of Big Data \")\n",
    "\n",
    "plt.show()\n"
   ]
  },
  {
   "cell_type": "markdown",
   "metadata": {},
   "source": [
    "<h5 style=\"color:red\"> Fig 4: Unique search of six time dependent values from dataset </h5>"
   ]
  },
  {
   "cell_type": "markdown",
   "metadata": {},
   "source": [
    "#### Individual exercise on Pie chart. Courtesy: stackoverflow\n",
    "\n",
    "I have tried to play a little bit with population column and visualize using pie chart \n"
   ]
  },
  {
   "cell_type": "code",
   "execution_count": null,
   "metadata": {},
   "outputs": [],
   "source": [
    "from collections import defaultdict\n",
    "from bisect import bisect_left\n",
    "\n",
    "def count_intervals(sequence, intervals):\n",
    "    count = defaultdict(int)\n",
    "    intervals.sort()\n",
    "    for item in sequence:\n",
    "        pos = bisect_left(intervals, item)\n",
    "        if pos == len(intervals):\n",
    "            count[None] += 1\n",
    "        else:\n",
    "            count[intervals[pos]] += 1\n",
    "    return count\n",
    "mill = 1000000 # convert population in milions\n",
    "intr = [2,5,10, 20, 50, 200, 400, 600, 1400] \n",
    "mul = [x*mill for x in intr]\n",
    "\n",
    "data = df['Population'].values\n",
    "print (count_intervals(data,mul))\n",
    "\n",
    "lis = count_intervals(data,mul)"
   ]
  },
  {
   "cell_type": "code",
   "execution_count": null,
   "metadata": {},
   "outputs": [],
   "source": [
    "labels = ['{} millions'.format(i/mill)  for i in lis.keys()]"
   ]
  },
  {
   "cell_type": "code",
   "execution_count": null,
   "metadata": {},
   "outputs": [],
   "source": [
    "import matplotlib.pyplot as plt\n",
    "\n",
    "# Data to plot\n",
    "labels = ['{} millions'.format(i/mill)  for i in lis.keys()]\n",
    "sizes = lis.values()\n",
    "colors = ['gold', 'yellowgreen', 'lightcoral', 'lightskyblue']\n",
    "explode = (0.1, 0, 0, 0,0,0,0,0)  # explode 1st slice\n",
    "\n",
    "# Plot\n",
    "plt.pie(sizes, explode=explode, labels=labels,\n",
    "autopct='%1.1f%%', shadow=True, startangle=140)\n",
    "\n",
    "plt.title(\"Word Population under millions\")\n",
    "\n",
    "plt.axis('equal')\n",
    "plt.show()"
   ]
  },
  {
   "cell_type": "markdown",
   "metadata": {},
   "source": [
    "<h5 style=\"color:red\"> Fig 4.1: World population in millions </h5>"
   ]
  },
  {
   "cell_type": "markdown",
   "metadata": {},
   "source": [
    "#### 2.3 Line plot"
   ]
  },
  {
   "cell_type": "code",
   "execution_count": null,
   "metadata": {},
   "outputs": [],
   "source": [
    "# Filling NaNs\n",
    "# importing pandas module \n",
    "import pandas as pd \n",
    "   \n",
    "  \n",
    "# replacing na values in college with No college \n",
    "df[\"week\"].fillna( method ='ffill', inplace = True)"
   ]
  },
  {
   "cell_type": "code",
   "execution_count": null,
   "metadata": {},
   "outputs": [],
   "source": [
    "'''In the following example, the distribution of data science and Big data gets displayed'''\n",
    "\n",
    "# Define the size of the whole figure (width/height)\n",
    "fig = plt.figure(figsize = (12,6))\n",
    "\n",
    "# Define size and position of the large graph(ax1) and insert graph(ax2): [x-position,y-position,width]\n",
    "'''Try some different numbers and see what happens. Negative values are also possible, but stay in a small range,\n",
    "otherwise your plot gets too small!'''\n",
    "ax1 = fig.add_axes([0,0,1,1])\n",
    "ax2 = fig.add_axes([0.45, 0.6, 0.5, 0.3])\n",
    "\n",
    "# Set a title\n",
    "ax1.set_title(\"Python and Big Data search per week\")\n",
    "\n",
    "'''In my example, only the first 200 km (first 400 data points) shall be displayed in this graph.\n",
    "Therefore, the data is subsetted with iloc -> iloc[0:401]'''\n",
    "\n",
    "# Set attributes for large graph\n",
    "ax1.plot(df['week'].iloc[0:228],\n",
    "        df['big data'].iloc[0:228],\n",
    "        color = \"blue\") # set color\n",
    "ax1.set_xlabel(\"weeks\") # set x-label\n",
    "ax1.set_ylabel(\"search/week\") # set y-label\n",
    "\n",
    "\n",
    "# Set attributes for insert graph\n",
    "ax2.plot(df['week'].iloc[0:228],\n",
    "        df['python'].iloc[0:228],\n",
    "        color = \"lightblue\") # set color\n",
    "ax2.set_xlabel(\"week\") # set x-label\n",
    "ax2.set_ylabel(\"search/week\") # set y-label\n",
    "\n",
    "plt.show()\n"
   ]
  },
  {
   "cell_type": "markdown",
   "metadata": {},
   "source": [
    "<h5 style=\"text-align:center; color:red\"> Fig 5: Python and Big Data search per week  </h5>"
   ]
  },
  {
   "cell_type": "code",
   "execution_count": null,
   "metadata": {},
   "outputs": [],
   "source": [
    "#Filling NaNs\n",
    "# importing pandas module \n",
    "import pandas as pd \n",
    "   \n",
    "  \n",
    "# replacing na values in college with No college \n",
    "df[\"week\"].fillna( method ='ffill', inplace = True)"
   ]
  },
  {
   "cell_type": "markdown",
   "metadata": {},
   "source": [
    "##### Line at average values"
   ]
  },
  {
   "cell_type": "code",
   "execution_count": null,
   "metadata": {},
   "outputs": [],
   "source": [
    "#Define the size of the whole figure (width/height)\n",
    "fig = plt. figure(figsize = (20,8))\n",
    "\n",
    "# Add a title\n",
    "plt.suptitle(\"Search per week by keywords of Big Data, Data science, Python and Artificial Intelligence, Machine Learning\", fontsize = 18)\n",
    "\n",
    "#Create plot ax1 = \"bigdata\"\n",
    "ax1 = fig.add_subplot(221) # position of individual subplot (Matrix = 111)\n",
    "ax1.set_title(\"Data Science\") # Title of subplot\n",
    "ax1.plot(df['week'],\n",
    "         df['data science'],\n",
    "        color = \"cornflowerblue\") # choose individual colors\n",
    "plt.axhline(y = df['data science'].mean(), linewidth=2, color='m') # Insert horizontal line \n",
    "\n",
    "\n",
    "#Create plot ax2 = \"2005\"\n",
    "ax2 = fig.add_subplot(222)\n",
    "ax2.set_title(\"Big Data\")\n",
    "ax2.plot(df['week'],\n",
    "         df['big data'],\n",
    "        color = \"cornflowerblue\")\n",
    "plt.axhline(y = df['big data'].mean(), linewidth=2, color='m')\n",
    "\n",
    "#Create plot ax3 = \"2006\"\n",
    "ax3 = fig.add_subplot(223)\n",
    "ax3.set_title(\"Artificial Intelligence\")\n",
    "ax3.plot(df['week'],\n",
    "         df['artificial intelligence'],\n",
    "        color = \"cornflowerblue\")\n",
    "plt.axhline(y = df['artificial intelligence'].mean(), linewidth=2, color='m')\n",
    "\n",
    "#Create plot ax4 = \"2007\"\n",
    "ax4 = fig.add_subplot(224)\n",
    "ax4.set_title(\"2007\")\n",
    "ax4.plot(df['week'],\n",
    "         df['machine learning'],\n",
    "        color = \"cornflowerblue\")\n",
    "plt.axhline(y = 0, linewidth=2, color='m') # I like to draw a line at 0 position only for this graph\n",
    "\n",
    "plt.setxlabel = \"search/week\""
   ]
  },
  {
   "cell_type": "markdown",
   "metadata": {},
   "source": [
    "<h5 style= \"text-align:center; color:red\"> Fig 6: Search per week by keywords of Big Data, Data science, Python and Artificial Intelligence, Machine Learning  </h5>"
   ]
  },
  {
   "cell_type": "markdown",
   "metadata": {},
   "source": [
    "#### 2.4 Boxplot and Violinplot\n",
    "\n",
    "- Boxplot"
   ]
  },
  {
   "cell_type": "code",
   "execution_count": null,
   "metadata": {},
   "outputs": [],
   "source": [
    "# To avoid problems with 'NaN's you can filter your data for missing values, while assigning the objects\n",
    "plt.figure(figsize = (16,6))\n",
    "\n",
    "value1=df[\"artificial intelligence\"]  \n",
    "accu1 = value1[~np.isnan(value1)]\n",
    "\n",
    "value2 = df[\"python\"]\n",
    "accu2 = value2[~np.isnan(value2)]\n",
    "\n",
    "value3=df[\"machine learning\"]  \n",
    "accu3 = value3[~np.isnan(value3)]\n",
    "\n",
    "value4=df[\"big data\"]  \n",
    "accu4 = value4[~np.isnan(value4)]\n",
    "\n",
    "# Assigning the boxplot data\n",
    "plot_data=[accu1,accu2,accu3, accu4]\n",
    "\n",
    "# Defining the colors\n",
    "colors = ['red', 'yellow', 'blue', 'black']\n",
    "\n",
    "bp = plt.boxplot(plot_data,\n",
    "                patch_artist = True,\n",
    "                notch = True)\n",
    "for i in range(len(bp['boxes'])):\n",
    "    bp['boxes'][i].set(facecolor = colors[i])\n",
    "    bp['caps'][2*i + 1].set(color = colors[i])\n",
    "    \n",
    "plt.xticks([1,2,3,4],['Artificial intelligence', 'Python', 'Machine Learning', 'Big Data'])\n",
    "\n",
    "plt.show()"
   ]
  },
  {
   "cell_type": "markdown",
   "metadata": {},
   "source": [
    "<h5 style= \"text-align: center; color:red\"> Fig 7: Box plot of different attributes </h5>"
   ]
  },
  {
   "cell_type": "markdown",
   "metadata": {},
   "source": [
    "- Violinplot"
   ]
  },
  {
   "cell_type": "code",
   "execution_count": null,
   "metadata": {
    "scrolled": true
   },
   "outputs": [],
   "source": [
    "#Plotting the distribution of Artificial Intelligence, Python and Machine Learning values from weeks to weeks\n",
    "plt.figure(figsize = (20,6))\n",
    "vp = plt.violinplot(plot_data,\n",
    "                   showmedians = True)\n",
    "plt.xticks([1,2,3, 4],['Artificial intelligence', 'Python', 'Machine Mearning', 'Big Data'])\n",
    "\n",
    "for i in range(len(vp['bodies'])):\n",
    "    vp['bodies'][i].set(facecolor=colors[i])\n",
    "    \n",
    "plt.show()"
   ]
  },
  {
   "cell_type": "markdown",
   "metadata": {},
   "source": [
    "<h5 style= \"text-align:center; color:red\"> Fig 8: Violinplot of different attributes  </h5>"
   ]
  },
  {
   "cell_type": "markdown",
   "metadata": {},
   "source": [
    "#### 2.6 Stack plot\n"
   ]
  },
  {
   "cell_type": "code",
   "execution_count": null,
   "metadata": {},
   "outputs": [],
   "source": [
    "# Applying the rolling mean in 10 km steps (= 20 windows) on the accumulation data\n",
    "rmean1=df['data science'].rolling(window=20, min_periods=1).mean()\n",
    "rmean2=df['python'].rolling(window=20, min_periods=1).mean()\n",
    "rmean3=df['machine learning'].rolling(window=20, min_periods=1).mean()\n",
    "\n",
    "# Defining the size of the figure [link](https://kite.com/python/examples/1875/matplotlib-change-the-figure-size)\n",
    "plt.figure(figsize=(12, 6))\n",
    "\n",
    "# Assign x-axis variable\n",
    "x = df['week']\n",
    "\n",
    "#a = (i.split('/')[-1] for i in df['week'])\n",
    "#x = [*a]\n",
    "\n",
    "# Assign y-axis variables\n",
    "y = np.vstack([rmean1,rmean2,rmean3])\n",
    "\n",
    "# Defining the labels\n",
    "labels = ['Data Science',\n",
    "         'Python',\n",
    "         'Machine Learning']\n",
    "\n",
    "# Defining the color\n",
    "colors = ['green',\n",
    "          'red',\n",
    "          'green']\n",
    "\n",
    "# Plot data as stackplot, with afore defined labels and color. \n",
    "# The color that seperates the different stacks is chosen to be 'white'\n",
    "plt.stackplot(x,y,\n",
    "             labels = labels,\n",
    "             colors = colors,\n",
    "             edgecolor = 'white')\n",
    "\n",
    "# Define x- and y-label\n",
    "plt.xlabel('Weeks')\n",
    "plt.ylabel('Search per week')\n",
    "\n",
    "# Add a legend and define its position using loc= 'a number between 0 and 11'\n",
    "plt.legend(loc=9)\n",
    "\n",
    "# Automatically arranges a tight layout of your graph\n",
    "plt.tight_layout()\n",
    "\n",
    "plt.show()"
   ]
  },
  {
   "cell_type": "markdown",
   "metadata": {},
   "source": [
    "<h5 style= \"text-align:center; color:red\"> Fig 9: Stack plot of Data Science, Python and Machine Learning  </h5>"
   ]
  },
  {
   "cell_type": "markdown",
   "metadata": {},
   "source": [
    "- #### 2.7 Stem plot"
   ]
  },
  {
   "cell_type": "code",
   "execution_count": null,
   "metadata": {},
   "outputs": [],
   "source": [
    "'''In the following example, the search result change for big data to machine learning one week to another shall be displayed.'''\n",
    "\n",
    "# Create a copy of your data set\n",
    "stem_data = df.copy()\n",
    "\n",
    "# Compare two data sets or variables using `diff()`\n",
    "stem_data[['big_data_comp', 'machine_learning_comp']] = df[['big data','machine learning']].diff()"
   ]
  },
  {
   "cell_type": "code",
   "execution_count": null,
   "metadata": {},
   "outputs": [],
   "source": [
    "# importing pandas module \n",
    "import pandas as pd \n",
    "   \n",
    "  \n",
    "# replacing na values in college with No college \n",
    "df[\"week\"].fillna( method ='ffill', inplace = True)"
   ]
  },
  {
   "cell_type": "code",
   "execution_count": null,
   "metadata": {},
   "outputs": [],
   "source": [
    "# Define the size of your figure\n",
    "plt.figure(figsize=(15,11))\n",
    "\n",
    "# Add a main title and define position(y=) and letter size(fontsize=)\n",
    "plt.suptitle('Search for Big Data and Machine Learning change from one week to another', y=1.03 , fontsize=20)\n",
    "\n",
    "# Define the x-axis for both plots\n",
    "dist = df['week']\n",
    "\n",
    "#a = (i.split('/')[-1] for i in df['week'])\n",
    "#dist = [*a]\n",
    "\n",
    "# Create first subplot(position matrix)\n",
    "plt.subplot(311)\n",
    "plt.stem(dist, # x-axis\n",
    "         stem_data['big_data_comp'], # y-axis first plot\n",
    "         markerfmt = 'g_', # Defining the format of the markers at x/y-position -> 'g_' = \"green, flat line\"\n",
    "         linefmt = 'b--', # Defining the format of the lines towards x/y-position -> 'b--' = \"blue, dashed line\"\n",
    "         basefmt='r-') # Defining the format of the bottom line (by default at position 0) -> 'r-' = \"red, solid line\"\n",
    "plt.title('Big Data search Change from week to week')\n",
    "\n",
    "\n",
    "plt.subplot(312)\n",
    "plt.stem(dist, # x-axis\n",
    "         stem_data['machine_learning_comp'], # y-axis second plot\n",
    "         markerfmt = 'g_',\n",
    "         linefmt = 'b--',\n",
    "         basefmt='r-')\n",
    "plt.title('Machine Learning search result Change from week to week')\n",
    "\n",
    "# Add a little text box inside the plot, by adding this function to the addressed plot\n",
    "plt.text(65, -110, 'Differences in data size between the years, due to the loss of measuring stakes', style='italic',\n",
    "        bbox={'facecolor': 'azure', 'alpha': 0.5, 'pad': 10}) # Define th style of the box\n",
    "\n",
    "# Improves the layout to a tight version\n",
    "plt.tight_layout()\n",
    "\n",
    "#plt.savefig(r'C:\\Users\\Rakibul\\Desktop\\6th semester\\Data Analysis and Visualization\\exercises/Search_ .png',  dpi=300, bbox_inches='tight')\n",
    "plt.show()"
   ]
  },
  {
   "cell_type": "markdown",
   "metadata": {},
   "source": [
    "<h5 style= \"text-align:center; color:red\"> Fig 10: Machine Learning search result Change from week to week  </h5>"
   ]
  },
  {
   "cell_type": "code",
   "execution_count": null,
   "metadata": {},
   "outputs": [],
   "source": []
  }
 ],
 "metadata": {
  "kernelspec": {
   "display_name": "Python 3",
   "language": "python",
   "name": "python3"
  },
  "language_info": {
   "codemirror_mode": {
    "name": "ipython",
    "version": 3
   },
   "file_extension": ".py",
   "mimetype": "text/x-python",
   "name": "python",
   "nbconvert_exporter": "python",
   "pygments_lexer": "ipython3",
   "version": "3.7.6"
  }
 },
 "nbformat": 4,
 "nbformat_minor": 4
}
